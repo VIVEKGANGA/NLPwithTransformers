{
 "cells": [
  {
   "cell_type": "markdown",
   "id": "bfe593c7-cf56-4b4b-b1dd-1e4805278d71",
   "metadata": {},
   "source": [
    "Attention Mechanism"
   ]
  },
  {
   "cell_type": "code",
   "execution_count": 1,
   "id": "081bf583-f13b-4036-9efb-7143a157eb9b",
   "metadata": {},
   "outputs": [],
   "source": [
    "import numpy as np\n",
    "from scipy.special import softmax"
   ]
  },
  {
   "cell_type": "code",
   "execution_count": 2,
   "id": "41f263d2-11aa-4c0a-bcd6-b7f3c963e801",
   "metadata": {},
   "outputs": [],
   "source": [
    "# Input Embedding 3 inputs with dm=4\n",
    "\n",
    "x = np.array([[1.0, 0.0, 1.0, 0.0],\n",
    "             [0.0, 2.0, 0.0, 2.0],\n",
    "             [1.0, 1.0, 1.0, 1.0]])"
   ]
  },
  {
   "cell_type": "code",
   "execution_count": 3,
   "id": "ba8a2458-bb52-45fe-8e65-6fb6472c5727",
   "metadata": {},
   "outputs": [],
   "source": [
    "# Weights should be dk,dm \n",
    "\n",
    "w_query = np.array([[1,0,1],\n",
    "                    [1,0,0],\n",
    "                    [0,0,1],\n",
    "                    [0,1,1]])\n",
    "\n",
    "w_key = np.array([[0,0,1],\n",
    "                 [1,1,0],\n",
    "                 [0,1,0],\n",
    "                  [1,1,0]])\n",
    "\n",
    "w_value = np.array([[0,2,0],\n",
    "                   [0,3,0],\n",
    "                   [1,0,3],\n",
    "                   [1,1,0]])"
   ]
  },
  {
   "cell_type": "code",
   "execution_count": 4,
   "id": "4e97b776-0c0e-431d-9566-3ad43a51c68d",
   "metadata": {},
   "outputs": [],
   "source": [
    "Q = np.matmul(x, w_query)\n",
    "K = np.matmul(x, w_key)\n",
    "V = np.matmul(x, w_value)"
   ]
  },
  {
   "cell_type": "code",
   "execution_count": 13,
   "id": "51512552-a0ba-45ae-9894-670080e5eeb7",
   "metadata": {},
   "outputs": [],
   "source": [
    "# square root of dk = 1\n",
    "attention_scores = Q @ K.T"
   ]
  },
  {
   "cell_type": "code",
   "execution_count": 14,
   "id": "05242d50-7cb4-4d28-83b6-201f24267f12",
   "metadata": {},
   "outputs": [
    {
     "name": "stdout",
     "output_type": "stream",
     "text": [
      "[0.06337894 0.46831053 0.46831053]\n",
      "[6.03366485e-06 9.82007865e-01 1.79861014e-02]\n",
      "[2.95387223e-04 8.80536902e-01 1.19167711e-01]\n"
     ]
    }
   ],
   "source": [
    "attention_scores[0]=softmax(attention_scores[0])\n",
    "attention_scores[1]=softmax(attention_scores[1])\n",
    "attention_scores[2]=softmax(attention_scores[2])\n",
    "print(attention_scores[0])\n",
    "print(attention_scores[1])\n",
    "print(attention_scores[2])"
   ]
  },
  {
   "cell_type": "code",
   "execution_count": 16,
   "id": "a52984d7-a299-443b-bb5c-0b4691f2ec0a",
   "metadata": {},
   "outputs": [
    {
     "data": {
      "text/plain": [
       "0.06337893833303762"
      ]
     },
     "execution_count": 16,
     "metadata": {},
     "output_type": "execute_result"
    }
   ],
   "source": [
    "attention_scores[0].reshape(-1,1)[0][0]"
   ]
  },
  {
   "cell_type": "code",
   "execution_count": 19,
   "id": "f5a17249-eb3e-4fb6-9271-8db5eec0d07a",
   "metadata": {},
   "outputs": [
    {
     "name": "stdout",
     "output_type": "stream",
     "text": [
      "[0.06337894 0.12675788 0.19013681]\n",
      "Attention 2\n",
      "[0.93662106 3.74648425 0.        ]\n",
      "Attention 3\n",
      "[0.93662106 2.80986319 1.40493159]\n"
     ]
    }
   ],
   "source": [
    "attention1=attention_scores[0].reshape(-1,1)\n",
    "attention1=attention_scores[0][0]*V[0]\n",
    "print(attention1)\n",
    "\n",
    "print(\"Attention 2\")\n",
    "attention2=attention_scores[0][1]*V[1]\n",
    "print(attention2)\n",
    "\n",
    "print(\"Attention 3\")\n",
    "attention3=attention_scores[0][2]*V[2]\n",
    "print(attention3)"
   ]
  },
  {
   "cell_type": "code",
   "execution_count": null,
   "id": "f13d3f84-ff77-4642-89cb-827d872a7a64",
   "metadata": {},
   "outputs": [],
   "source": []
  }
 ],
 "metadata": {
  "kernelspec": {
   "display_name": "Python 3 (ipykernel)",
   "language": "python",
   "name": "python3"
  },
  "language_info": {
   "codemirror_mode": {
    "name": "ipython",
    "version": 3
   },
   "file_extension": ".py",
   "mimetype": "text/x-python",
   "name": "python",
   "nbconvert_exporter": "python",
   "pygments_lexer": "ipython3",
   "version": "3.8.15"
  }
 },
 "nbformat": 4,
 "nbformat_minor": 5
}
