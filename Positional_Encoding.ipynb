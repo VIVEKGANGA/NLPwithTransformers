{
 "cells": [
  {
   "cell_type": "markdown",
   "id": "1502ae4b-2d03-4031-b2d5-672ef76c4b54",
   "metadata": {},
   "source": [
    "Positional Encoding"
   ]
  },
  {
   "cell_type": "code",
   "execution_count": 5,
   "id": "54147bae-6d64-4cd1-879a-a8037bcaa027",
   "metadata": {},
   "outputs": [
    {
     "name": "stdout",
     "output_type": "stream",
     "text": [
      "Requirement already satisfied: gensim==3.8.3 in /opt/anaconda3/envs/torch-gpu/lib/python3.8/site-packages (3.8.3)\n",
      "Requirement already satisfied: six>=1.5.0 in /opt/anaconda3/envs/torch-gpu/lib/python3.8/site-packages (from gensim==3.8.3) (1.16.0)\n",
      "Requirement already satisfied: numpy>=1.11.3 in /opt/anaconda3/envs/torch-gpu/lib/python3.8/site-packages (from gensim==3.8.3) (1.23.4)\n",
      "Requirement already satisfied: scipy>=0.18.1 in /opt/anaconda3/envs/torch-gpu/lib/python3.8/site-packages (from gensim==3.8.3) (1.9.3)\n",
      "Requirement already satisfied: smart-open>=1.8.1 in /opt/anaconda3/envs/torch-gpu/lib/python3.8/site-packages (from gensim==3.8.3) (6.3.0)\n",
      "Requirement already satisfied: nltk in /opt/anaconda3/envs/torch-gpu/lib/python3.8/site-packages (3.8)\n",
      "Requirement already satisfied: regex>=2021.8.3 in /opt/anaconda3/envs/torch-gpu/lib/python3.8/site-packages (from nltk) (2022.10.31)\n",
      "Requirement already satisfied: click in /opt/anaconda3/envs/torch-gpu/lib/python3.8/site-packages (from nltk) (8.1.3)\n",
      "Requirement already satisfied: tqdm in /opt/anaconda3/envs/torch-gpu/lib/python3.8/site-packages (from nltk) (4.64.1)\n",
      "Requirement already satisfied: joblib in /opt/anaconda3/envs/torch-gpu/lib/python3.8/site-packages (from nltk) (1.2.0)\n",
      "Requirement already satisfied: scikit-learn in /opt/anaconda3/envs/torch-gpu/lib/python3.8/site-packages (1.2.0)\n",
      "Requirement already satisfied: joblib>=1.1.1 in /opt/anaconda3/envs/torch-gpu/lib/python3.8/site-packages (from scikit-learn) (1.2.0)\n",
      "Requirement already satisfied: threadpoolctl>=2.0.0 in /opt/anaconda3/envs/torch-gpu/lib/python3.8/site-packages (from scikit-learn) (3.1.0)\n",
      "Requirement already satisfied: numpy>=1.17.3 in /opt/anaconda3/envs/torch-gpu/lib/python3.8/site-packages (from scikit-learn) (1.23.4)\n",
      "Requirement already satisfied: scipy>=1.3.2 in /opt/anaconda3/envs/torch-gpu/lib/python3.8/site-packages (from scikit-learn) (1.9.3)\n"
     ]
    },
    {
     "name": "stderr",
     "output_type": "stream",
     "text": [
      "[nltk_data] Downloading package punkt to /Users/gangvive/nltk_data...\n",
      "[nltk_data]   Package punkt is already up-to-date!\n"
     ]
    },
    {
     "name": "stdout",
     "output_type": "stream",
     "text": [
      "Collecting matplotlib\n",
      "  Downloading matplotlib-3.6.2-cp38-cp38-macosx_10_12_x86_64.whl (7.3 MB)\n",
      "\u001b[2K     \u001b[90m━━━━━━━━━━━━━━━━━━━━━━━━━━━━━━━━━━━━━━━━\u001b[0m \u001b[32m7.3/7.3 MB\u001b[0m \u001b[31m3.8 MB/s\u001b[0m eta \u001b[36m0:00:00\u001b[0m00:01\u001b[0m00:01\u001b[0m0m\n",
      "\u001b[?25hCollecting cycler>=0.10\n",
      "  Downloading cycler-0.11.0-py3-none-any.whl (6.4 kB)\n",
      "Collecting contourpy>=1.0.1\n",
      "  Downloading contourpy-1.0.6-cp38-cp38-macosx_10_9_x86_64.whl (240 kB)\n",
      "\u001b[2K     \u001b[90m━━━━━━━━━━━━━━━━━━━━━━━━━━━━━━━━━━━━━━\u001b[0m \u001b[32m240.6/240.6 kB\u001b[0m \u001b[31m10.2 MB/s\u001b[0m eta \u001b[36m0:00:00\u001b[0m\n",
      "\u001b[?25hRequirement already satisfied: packaging>=20.0 in /opt/anaconda3/envs/torch-gpu/lib/python3.8/site-packages (from matplotlib) (22.0)\n",
      "Collecting pyparsing>=2.2.1\n",
      "  Downloading pyparsing-3.0.9-py3-none-any.whl (98 kB)\n",
      "\u001b[2K     \u001b[90m━━━━━━━━━━━━━━━━━━━━━━━━━━━━━━━━━━━━━━━━\u001b[0m \u001b[32m98.3/98.3 kB\u001b[0m \u001b[31m7.3 MB/s\u001b[0m eta \u001b[36m0:00:00\u001b[0m\n",
      "\u001b[?25hCollecting fonttools>=4.22.0\n",
      "  Downloading fonttools-4.38.0-py3-none-any.whl (965 kB)\n",
      "\u001b[2K     \u001b[90m━━━━━━━━━━━━━━━━━━━━━━━━━━━━━━━━━━━━━━\u001b[0m \u001b[32m965.4/965.4 kB\u001b[0m \u001b[31m11.4 MB/s\u001b[0m eta \u001b[36m0:00:00\u001b[0m00:01\u001b[0m00:01\u001b[0m\n",
      "\u001b[?25hRequirement already satisfied: pillow>=6.2.0 in /opt/anaconda3/envs/torch-gpu/lib/python3.8/site-packages (from matplotlib) (9.2.0)\n",
      "Requirement already satisfied: python-dateutil>=2.7 in /opt/anaconda3/envs/torch-gpu/lib/python3.8/site-packages (from matplotlib) (2.8.2)\n",
      "Collecting kiwisolver>=1.0.1\n",
      "  Downloading kiwisolver-1.4.4-cp38-cp38-macosx_10_9_x86_64.whl (65 kB)\n",
      "\u001b[2K     \u001b[90m━━━━━━━━━━━━━━━━━━━━━━━━━━━━━━━━━━━━━━━━\u001b[0m \u001b[32m65.4/65.4 kB\u001b[0m \u001b[31m4.3 MB/s\u001b[0m eta \u001b[36m0:00:00\u001b[0m\n",
      "\u001b[?25hRequirement already satisfied: numpy>=1.19 in /opt/anaconda3/envs/torch-gpu/lib/python3.8/site-packages (from matplotlib) (1.23.4)\n",
      "Requirement already satisfied: six>=1.5 in /opt/anaconda3/envs/torch-gpu/lib/python3.8/site-packages (from python-dateutil>=2.7->matplotlib) (1.16.0)\n",
      "Installing collected packages: pyparsing, kiwisolver, fonttools, cycler, contourpy, matplotlib\n",
      "Successfully installed contourpy-1.0.6 cycler-0.11.0 fonttools-4.38.0 kiwisolver-1.4.4 matplotlib-3.6.2 pyparsing-3.0.9\n"
     ]
    }
   ],
   "source": [
    "!pip install gensim==3.8.3\n",
    "!pip install nltk\n",
    "!pip install -U scikit-learn\n",
    "import torch\n",
    "import gensim\n",
    "import nltk\n",
    "nltk.download('punkt')\n",
    "!pip install matplotlib"
   ]
  },
  {
   "cell_type": "code",
   "execution_count": 6,
   "id": "b8760449-63b5-4a3d-bcde-e4131ccef07b",
   "metadata": {},
   "outputs": [],
   "source": [
    "import math\n",
    "import numpy as np\n",
    "from nltk.tokenize import sent_tokenize, word_tokenize\n",
    "from gensim.models import Word2Vec\n",
    "from sklearn.metrics.pairwise import cosine_similarity\n",
    "import matplotlib.pyplot as plt\n",
    "import warnings\n",
    "warnings.filterwarnings(action='ignore')"
   ]
  },
  {
   "cell_type": "code",
   "execution_count": 7,
   "id": "1a77d253-7292-4754-93c8-a5735d1ce768",
   "metadata": {},
   "outputs": [],
   "source": [
    "sample = open(\"text.txt\",\"r\")\n",
    "text_data = sample.read()\n",
    "text_data = text_data.replace(\"\\n\",\"\")"
   ]
  },
  {
   "cell_type": "code",
   "execution_count": 10,
   "id": "781b41cf-7498-4298-a5c5-d1a9780148d6",
   "metadata": {},
   "outputs": [],
   "source": [
    "data = []\n",
    "for i in sent_tokenize(text_data):\n",
    "    temp = []\n",
    "    for j in word_tokenize(i):\n",
    "        temp.append(j.lower())\n",
    "    data.append(temp)\n"
   ]
  },
  {
   "cell_type": "code",
   "execution_count": 12,
   "id": "09c27a2f-059e-4918-8014-1259dc6f000d",
   "metadata": {},
   "outputs": [],
   "source": [
    "model = Word2Vec(data, min_count=1, size=512, window=5, sg=1)"
   ]
  },
  {
   "cell_type": "code",
   "execution_count": 13,
   "id": "eb4056fc-a731-4f8c-b859-c8a672fd0454",
   "metadata": {},
   "outputs": [],
   "source": [
    "word1 = \"black\"\n",
    "word2 = \"brown\"\n",
    "pos1 = 2\n",
    "pos2=10\n",
    "a = model[word1]\n",
    "b = model[word2]\n"
   ]
  },
  {
   "cell_type": "code",
   "execution_count": 19,
   "id": "daba14a0-19fc-4d1d-814f-38e0d6b92130",
   "metadata": {},
   "outputs": [],
   "source": [
    "cos_lib = cosine_similarity(a.reshape(1,512),b.reshape(1,512))"
   ]
  },
  {
   "cell_type": "code",
   "execution_count": 21,
   "id": "f73aa4f0-e9e6-473b-b69f-cd43d2e86979",
   "metadata": {},
   "outputs": [],
   "source": [
    "aa = a.reshape(1,512) \n",
    "ba = b.reshape(1,512)\n",
    "d_model=512\n",
    "pe1 = aa.copy()\n",
    "pe2 = aa.copy()\n",
    "paa = aa.copy()\n",
    "pab = ba.copy()\n",
    "\n",
    "for i in range(0,512,2):\n",
    "    pe1[0][i] = math.sin(pos1/10000**((2*i)/d_model))\n",
    "    paa[0][i] = (paa[0][i]* math.sqrt(d_model)) + pe1[0][i] \n",
    "    pe1[0][i+1] = math.cos(pos1/10000**((2*i)/d_model))\n",
    "    paa[0][i+1] = (paa[0][i+1]* math.sqrt(d_model)) + pe1[0][i+1]\n",
    "    \n",
    "    \n",
    "for i in range(0,512,2):\n",
    "    pe2[0][i] = math.sin(pos2/10000**((2*i)/d_model))\n",
    "    pab[0][i] = (pab[0][i]* math.sqrt(d_model)) + pe2[0][i] \n",
    "    pe2[0][i+1] = math.cos(pos2/10000**((2*i)/d_model))\n",
    "    pab[0][i+1] = (pab[0][i+1]* math.sqrt(d_model)) + pe2[0][i+1]"
   ]
  },
  {
   "cell_type": "code",
   "execution_count": 23,
   "id": "ba113688-bf61-4193-b5d4-d608bf18527a",
   "metadata": {},
   "outputs": [
    {
     "name": "stdout",
     "output_type": "stream",
     "text": [
      "black brown\n",
      "[[0.99989057]] word similarity\n",
      "[[0.8600013]] positional similarity\n",
      "[[0.9645591]] positional encoding similarity\n"
     ]
    }
   ],
   "source": [
    "print(word1,word2)\n",
    "cos_lib = cosine_similarity(aa, ba)\n",
    "print(cos_lib,\"word similarity\")\n",
    "cos_lib = cosine_similarity(pe1, pe2)\n",
    "print(cos_lib,\"positional similarity\")\n",
    "cos_lib = cosine_similarity(paa, pab)\n",
    "print(cos_lib,\"positional encoding similarity\")"
   ]
  },
  {
   "cell_type": "code",
   "execution_count": null,
   "id": "a7f8c30b-f65e-4dff-8a33-f36d8caf7600",
   "metadata": {},
   "outputs": [],
   "source": []
  }
 ],
 "metadata": {
  "kernelspec": {
   "display_name": "Python 3 (ipykernel)",
   "language": "python",
   "name": "python3"
  },
  "language_info": {
   "codemirror_mode": {
    "name": "ipython",
    "version": 3
   },
   "file_extension": ".py",
   "mimetype": "text/x-python",
   "name": "python",
   "nbconvert_exporter": "python",
   "pygments_lexer": "ipython3",
   "version": "3.8.15"
  }
 },
 "nbformat": 4,
 "nbformat_minor": 5
}
